{
 "cells": [
  {
   "cell_type": "code",
   "execution_count": null,
   "id": "31bd9518",
   "metadata": {},
   "outputs": [],
   "source": [
    "from sklearn.datasets import load_iris\n",
    "import pandas as pd\n",
    "import numpy as np"
   ]
  },
  {
   "cell_type": "code",
   "execution_count": null,
   "id": "37789874",
   "metadata": {},
   "outputs": [],
   "source": [
    "dataset=load_iris()\n",
    "dataset"
   ]
  },
  {
   "cell_type": "code",
   "execution_count": null,
   "id": "cfa26c62",
   "metadata": {},
   "outputs": [],
   "source": [
    "print(dataset.data)\n",
    "print(dataset.target)\n",
    "print(dataset.data.shape)\n",
    "print(dataset.target.shape)"
   ]
  },
  {
   "cell_type": "code",
   "execution_count": null,
   "id": "694ee529",
   "metadata": {},
   "outputs": [],
   "source": [
    "x=pd.DataFrame(dataset.data,columns=dataset.feature_names) \n",
    "x"
   ]
  },
  {
   "cell_type": "code",
   "execution_count": null,
   "id": "24ce72ae",
   "metadata": {},
   "outputs": [],
   "source": [
    "y=dataset.target\n",
    "y"
   ]
  },
  {
   "cell_type": "code",
   "execution_count": null,
   "id": "c72d04fb",
   "metadata": {},
   "outputs": [],
   "source": [
    "from sklearn.model_selection import train_test_split\n",
    "x_train,x_test,y_train,y_test=train_test_split(x,y,test_size=0.25,random_state=0)\n",
    "print(x_train.shape)\n",
    "print(y_train.shape)\n"
   ]
  },
  {
   "cell_type": "code",
   "execution_count": null,
   "id": "c4f6d61f",
   "metadata": {},
   "outputs": [],
   "source": [
    "accuracy=[]\n",
    "from sklearn.tree import DecisionTreeClassifier\n",
    "from sklearn.metrics import accuracy_score\n",
    "import matplotlib.pyplot as plt\n",
    "for i in range(1,10):\n",
    "    model=DecisionTreeClassifier(max_depth=i,random_state=0)\n",
    "    model.fit(x_train,y_train)\n",
    "    pred=model.predict(x_test)\n",
    "    score=accuracy_score(y_test,pred)\n",
    "    accuracy.append(score)\n",
    "a=[1,2,3,4,5,6,7,8,9]    \n",
    "plt.figure(figsize=(12,6))\n",
    "plt.plot(a,accuracy,color=\"red\",linestyle=\"dashed\",markerfacecolor=\"black\",marker=\"o\",markersize=10)\n",
    "plt.title(\"max depth value\")\n",
    "plt.xlabel(\"pred\")\n",
    "plt.ylabel(\"score\")    \n",
    "    \n"
   ]
  },
  {
   "cell_type": "code",
   "execution_count": null,
   "id": "d26b477b",
   "metadata": {},
   "outputs": [],
   "source": [
    "from sklearn.tree import DecisionTreeClassifier\n",
    "model=DecisionTreeClassifier( criterion=\"entropy\", max_depth=9)\n",
    "model.fit(x_train,y_train)"
   ]
  },
  {
   "cell_type": "code",
   "execution_count": null,
   "id": "c64010a5",
   "metadata": {},
   "outputs": [],
   "source": [
    "y_pred=model.predict(x_test)"
   ]
  },
  {
   "cell_type": "code",
   "execution_count": null,
   "id": "0b84253b",
   "metadata": {},
   "outputs": [],
   "source": [
    "from sklearn.metrics import accuracy_score\n",
    "print(\"Accuracy of the model percentage:{0}%\".format(accuracy_score(y_test,y_pred)*100))"
   ]
  },
  {
   "cell_type": "code",
   "execution_count": null,
   "id": "816b09e5",
   "metadata": {},
   "outputs": [],
   "source": [
    "flower1=float(input(\"Enter sepal length\"))\n",
    "flower2=float(input(\"Enter sepal width\"))\n",
    "flower3=float(input(\" Enter petal length\"))\n",
    "flower4=float(input(\"Enter petal width\"))\n",
    "flowers=[[flower1,flower2,flower3,flower4]]\n",
    "result=model.predict((flowers))\n",
    "\n",
    "print(result)\n",
    "if result==0:\n",
    "    print(\"setosa\")\n",
    "elif result==1:\n",
    "    print(\"versicolor\")\n",
    "else:\n",
    "    print(\"virginica\")"
   ]
  },
  {
   "cell_type": "code",
   "execution_count": null,
   "id": "f205ac34",
   "metadata": {},
   "outputs": [],
   "source": [
    "setosa', 'versicolor', 'virginica"
   ]
  }
 ],
 "metadata": {
  "kernelspec": {
   "display_name": "Python 3",
   "language": "python",
   "name": "python3"
  },
  "language_info": {
   "codemirror_mode": {
    "name": "ipython",
    "version": 3
   },
   "file_extension": ".py",
   "mimetype": "text/x-python",
   "name": "python",
   "nbconvert_exporter": "python",
   "pygments_lexer": "ipython3",
   "version": "3.8.8"
  }
 },
 "nbformat": 4,
 "nbformat_minor": 5
}
