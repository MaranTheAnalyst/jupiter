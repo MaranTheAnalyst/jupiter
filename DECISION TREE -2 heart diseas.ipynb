{
 "cells": [
  {
   "cell_type": "code",
   "execution_count": null,
   "id": "6735cfaf",
   "metadata": {},
   "outputs": [],
   "source": [
    "import pandas as pd\n",
    "dataset=pd.read_csv(\"heart.csv\")\n",
    "dataset\n"
   ]
  },
  {
   "cell_type": "code",
   "execution_count": null,
   "id": "a3038b2b",
   "metadata": {},
   "outputs": [],
   "source": [
    "x=dataset.drop([\"max_hr\",\"exang\",\"oldpeak\",\"slope\",\"num_major_vessels\",\"thal\",\"target\"],axis=\"columns\")\n",
    "x"
   ]
  },
  {
   "cell_type": "code",
   "execution_count": null,
   "id": "1c9683ba",
   "metadata": {},
   "outputs": [],
   "source": [
    "y=dataset.target\n",
    "y"
   ]
  },
  {
   "cell_type": "code",
   "execution_count": null,
   "id": "8db2fa2d",
   "metadata": {},
   "outputs": [],
   "source": [
    "from sklearn.model_selection import train_test_split\n",
    "x_train,x_test,y_train,y_test=train_test_split(x,y,test_size=0.2,random_state=0)"
   ]
  },
  {
   "cell_type": "code",
   "execution_count": null,
   "id": "25582931",
   "metadata": {},
   "outputs": [],
   "source": [
    "x_train.shape"
   ]
  },
  {
   "cell_type": "code",
   "execution_count": null,
   "id": "81e2805f",
   "metadata": {},
   "outputs": [],
   "source": [
    "y_train.shape"
   ]
  },
  {
   "cell_type": "code",
   "execution_count": null,
   "id": "3be56142",
   "metadata": {},
   "outputs": [],
   "source": [
    "from sklearn.tree import DecisionTreeClassifier\n",
    "from sklearn.metrics import accuracy_score\n",
    "import matplotlib.pyplot as plt\n",
    "accuracy=[]\n",
    "for i in range(1,10):\n",
    "    model=DecisionTreeClassifier(max_depth=i,random_state=0)\n",
    "    model.fit(x_train,y_train)\n",
    "    pred=model.predict(x_test)\n",
    "    score=accuracy_score(y_test,pred)\n",
    "    accuracy.append(score)\n",
    "plt.figure(figsize=(12,6))\n",
    "plt.plot(range(1,10),accuracy,color=\"red\",marker=\"o\",markerfacecolor=\"green\",linestyle=\"dashed\")\n",
    "plt.title=(\"heart\")\n",
    "plt.xlabel(\"accuracy\")\n",
    "plt.ylabel(\"level\")\n",
    "plt.show()\n"
   ]
  },
  {
   "cell_type": "code",
   "execution_count": null,
   "id": "12099f2c",
   "metadata": {},
   "outputs": [],
   "source": [
    "model=DecisionTreeClassifier(max_depth=4,criterion=\"entropy\")\n",
    "model.fit(x_train,y_train)\n"
   ]
  },
  {
   "cell_type": "code",
   "execution_count": null,
   "id": "451ba4e3",
   "metadata": {},
   "outputs": [],
   "source": [
    "pred=model.predict(x_test)"
   ]
  },
  {
   "cell_type": "code",
   "execution_count": null,
   "id": "b5d13e90",
   "metadata": {},
   "outputs": [],
   "source": [
    "from sklearn.metrics import accuracy_score\n",
    "print(\"accuracy of the model precentage:{0}%\".format(accuracy_score(pred,y_test)*100))"
   ]
  },
  {
   "cell_type": "code",
   "execution_count": null,
   "id": "599c1797",
   "metadata": {},
   "outputs": [],
   "source": [
    "dataset"
   ]
  },
  {
   "cell_type": "code",
   "execution_count": null,
   "id": "a91bdc9b",
   "metadata": {},
   "outputs": [],
   "source": [
    "age=int(input(\"Enter age\"))\n",
    "sex=int(input(\"Enter gender {male:1},{female:0}\"))\n",
    "chest=int(input(\"Enter pain type press only 0,1,2,3\"))\n",
    "resting_bp=float(input(\"Enter bp level\"))\n",
    "cholestoral=float(input(\"Entger cholestoral level\"))\n",
    "blood_sugar=int(input(\"Enter blood_sugar press onlt 0 0r 1\"))\n",
    "restecg=input(input(\"Enter restecg press only 0 or 1\"))\n",
    "heart=[[age,sex,chest,resting_bp,cholestoral,blood_sugar,restecg]]\n",
    "result=model.predict(heart)\n",
    "print(result)\n",
    "if result==1:\n",
    "    print(\"heart diseas is confirm pls consult for doctor\")\n",
    "else:\n",
    "    print(\"No heart diseas dont worry\")\n",
    "\n",
    "\n",
    "\n",
    "\n",
    "\n",
    "\n",
    "\n"
   ]
  },
  {
   "cell_type": "code",
   "execution_count": null,
   "id": "1f661d41",
   "metadata": {},
   "outputs": [],
   "source": []
  },
  {
   "cell_type": "code",
   "execution_count": null,
   "id": "12ff5bab",
   "metadata": {},
   "outputs": [],
   "source": []
  }
 ],
 "metadata": {
  "kernelspec": {
   "display_name": "Python 3",
   "language": "python",
   "name": "python3"
  },
  "language_info": {
   "codemirror_mode": {
    "name": "ipython",
    "version": 3
   },
   "file_extension": ".py",
   "mimetype": "text/x-python",
   "name": "python",
   "nbconvert_exporter": "python",
   "pygments_lexer": "ipython3",
   "version": "3.8.8"
  }
 },
 "nbformat": 4,
 "nbformat_minor": 5
}
